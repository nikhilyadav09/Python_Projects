{
 "cells": [
  {
   "cell_type": "code",
   "execution_count": 10,
   "metadata": {},
   "outputs": [
    {
     "name": "stdout",
     "output_type": "stream",
     "text": [
      "a : 3 , b : 4 , c : 1\n",
      "c is smallest\n"
     ]
    }
   ],
   "source": [
    "#10. Given three integers, find the smallest one.\n",
    "a=int(input(\"enter first number\"))#enter first number\n",
    "b=int(input(\"enter second number\"))#enter second number\n",
    "c=int(input(\"enter third number\"))#enter third number\n",
    "print(\"a :\",a,\", b :\",b,\", c :\",c)\n",
    "#conditions for smallest one\n",
    "if a>b:\n",
    "    if b>c:\n",
    "        print(\"c is smallest\")\n",
    "    elif b<c:\n",
    "        print(\"b is smallest\")\n",
    "    else:\n",
    "        print(\"b and c are equal and smallest\")#print if none of b and c is equal\n",
    "elif b>a:\n",
    "    if a>c:\n",
    "        print(\"c is smallest\")\n",
    "    elif a<c:\n",
    "        print(\"a is smallest\")\n",
    "    else:\n",
    "        print(\"a and c are equal and smallest\")#print if none of b and c is equal\n",
    "\n",
    "else:\n",
    "    if a>c:\n",
    "        print(\"c is smallest\")\n",
    "    elif a<c:\n",
    "        print(\"a and b are equal and smallest\")\n",
    "    else:\n",
    "        print(\"a, b and c all are equal\")#print when all 3 numbers are equal"
   ]
  },
  {
   "cell_type": "code",
   "execution_count": null,
   "metadata": {},
   "outputs": [],
   "source": []
  },
  {
   "cell_type": "code",
   "execution_count": null,
   "metadata": {},
   "outputs": [],
   "source": []
  }
 ],
 "metadata": {
  "kernelspec": {
   "display_name": "Python 3",
   "language": "python",
   "name": "python3"
  },
  "language_info": {
   "codemirror_mode": {
    "name": "ipython",
    "version": 3
   },
   "file_extension": ".py",
   "mimetype": "text/x-python",
   "name": "python",
   "nbconvert_exporter": "python",
   "pygments_lexer": "ipython3",
   "version": "3.11.6"
  }
 },
 "nbformat": 4,
 "nbformat_minor": 2
}
