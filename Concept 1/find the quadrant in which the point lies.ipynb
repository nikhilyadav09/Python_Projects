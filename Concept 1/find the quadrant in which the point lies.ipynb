{
 "cells": [
  {
   "cell_type": "code",
   "execution_count": 8,
   "metadata": {},
   "outputs": [
    {
     "name": "stdout",
     "output_type": "stream",
     "text": [
      "point ( 5 , 6 ) are in 1st quadrant\n"
     ]
    }
   ],
   "source": [
    "#6. Given a point (x1, y1), find the quadrant in which this point lies.\n",
    "x=int(input(\"enter the no.:\"))#taken x of the point from user.\n",
    "y=int(input(\"enter the no.:\"))#taken y of the point from user.\n",
    "if x>0 :\n",
    "    if y>0 :\n",
    "        print(\"point (\",x ,\",\",y,\") are in 1st quadrant\")#condition for (x,y) in first quadrant\n",
    "    elif y<0:\n",
    "        print(\"point (\",x ,\",\",y,\") are in 4th quadrant\")#condition for (x,y) in fourth quadrant\n",
    "    else:\n",
    "        print(\"point (\",x ,\",\",y,\") are on x axis\")#condition for  (x,y) on x axis\n",
    "elif x<0  :\n",
    "    if y>0:\n",
    "        print(\"point (\",x ,\",\",y,\") are in 2nd quadrant\")#condition for  (x,y) in second quadrant\n",
    "    elif y<0:\n",
    "         print(\"point (\",x ,\",\",y,\") are in 3rd quadrant\")#condition for  (x,y) in third quadrant\n",
    "    else:\n",
    "        print(\"point (\",x ,\",\",y,\") are on y axis\")#condition for  (x,y) on y axis\n",
    "else :\n",
    "    print(\"point (\",x ,\",\",y,\") are on origin\")#condition for origin"
   ]
  },
  {
   "cell_type": "code",
   "execution_count": null,
   "metadata": {},
   "outputs": [],
   "source": []
  }
 ],
 "metadata": {
  "kernelspec": {
   "display_name": "Python 3",
   "language": "python",
   "name": "python3"
  },
  "language_info": {
   "codemirror_mode": {
    "name": "ipython",
    "version": 3
   },
   "file_extension": ".py",
   "mimetype": "text/x-python",
   "name": "python",
   "nbconvert_exporter": "python",
   "pygments_lexer": "ipython3",
   "version": "3.11.6"
  }
 },
 "nbformat": 4,
 "nbformat_minor": 2
}
