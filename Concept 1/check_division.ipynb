{
 "cells": [
  {
   "cell_type": "code",
   "execution_count": 1,
   "metadata": {},
   "outputs": [
    {
     "name": "stdout",
     "output_type": "stream",
     "text": [
      "a divide by b is equal to 0.75\n"
     ]
    }
   ],
   "source": [
    "#5. Given two numbers, a and b, find the value of a/b (b may be zero).\n",
    "a=int(input(\"enter first no.:\"))#enter first number\n",
    "b=int(input(\"enter second no.\"))#enter second number\n",
    "if b==0:\n",
    "    print(\"a by b equal to not defined\")\n",
    "else :\n",
    "    print(\"a divide by b is equal to\",a/b )"
   ]
  },
  {
   "cell_type": "code",
   "execution_count": null,
   "metadata": {},
   "outputs": [],
   "source": []
  }
 ],
 "metadata": {
  "kernelspec": {
   "display_name": "Python 3",
   "language": "python",
   "name": "python3"
  },
  "language_info": {
   "codemirror_mode": {
    "name": "ipython",
    "version": 3
   },
   "file_extension": ".py",
   "mimetype": "text/x-python",
   "name": "python",
   "nbconvert_exporter": "python",
   "pygments_lexer": "ipython3",
   "version": "3.11.6"
  }
 },
 "nbformat": 4,
 "nbformat_minor": 2
}
