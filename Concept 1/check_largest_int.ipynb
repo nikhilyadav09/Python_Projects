{
 "cells": [
  {
   "cell_type": "code",
   "execution_count": 4,
   "metadata": {},
   "outputs": [
    {
     "name": "stdout",
     "output_type": "stream",
     "text": [
      "6 is greater than 5\n"
     ]
    }
   ],
   "source": [
    "#2. Given two integers, find the larger one.\n",
    "num1=int(input(\"enter first integer\"))#take first integer from user.\n",
    "num2=int(input(\"enter second integer\"))#take second integer from user.\n",
    "if num1>num2:\n",
    "    print(num1,\"is greater than\",num2)#print this if num1 is greater than num2.\n",
    "elif num1==num2:\n",
    "    print(\"both number are equal and are\",num1)#print this if num1 is equal to num2.\n",
    "else:\n",
    "    print(num2,\"is greater than\",num1)#print this if num1 is greater than num2."
   ]
  },
  {
   "cell_type": "code",
   "execution_count": null,
   "metadata": {},
   "outputs": [],
   "source": []
  }
 ],
 "metadata": {
  "kernelspec": {
   "display_name": "Python 3",
   "language": "python",
   "name": "python3"
  },
  "language_info": {
   "codemirror_mode": {
    "name": "ipython",
    "version": 3
   },
   "file_extension": ".py",
   "mimetype": "text/x-python",
   "name": "python",
   "nbconvert_exporter": "python",
   "pygments_lexer": "ipython3",
   "version": "3.11.6"
  }
 },
 "nbformat": 4,
 "nbformat_minor": 2
}
