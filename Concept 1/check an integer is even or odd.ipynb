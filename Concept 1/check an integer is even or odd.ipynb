{
 "cells": [
  {
   "cell_type": "code",
   "execution_count": 1,
   "metadata": {},
   "outputs": [
    {
     "name": "stdout",
     "output_type": "stream",
     "text": [
      "4 is an even number\n"
     ]
    }
   ],
   "source": [
    "#1.Given an integer, check if it is even or odd.\n",
    "num1=int(input(\"enter an integer\"))#take integer from user.\n",
    "\n",
    "if num1==0:\n",
    "    print(num1,\" is neither odd nor even\")#As o is neither even nor odd number so print this.\n",
    "elif num1%2==0:\n",
    "    print(num1,\"is an even number\")#as integer is divide by 2 it is even number.\n",
    "else:\n",
    "    print(num1,\"is an odd number\")#print this as left all are odd number.\n",
    "\n",
    "    \n"
   ]
  },
  {
   "cell_type": "code",
   "execution_count": null,
   "metadata": {},
   "outputs": [],
   "source": []
  },
  {
   "cell_type": "code",
   "execution_count": null,
   "metadata": {},
   "outputs": [],
   "source": []
  }
 ],
 "metadata": {
  "kernelspec": {
   "display_name": "Python 3",
   "language": "python",
   "name": "python3"
  },
  "language_info": {
   "codemirror_mode": {
    "name": "ipython",
    "version": 3
   },
   "file_extension": ".py",
   "mimetype": "text/x-python",
   "name": "python",
   "nbconvert_exporter": "python",
   "pygments_lexer": "ipython3",
   "version": "3.11.6"
  }
 },
 "nbformat": 4,
 "nbformat_minor": 2
}
