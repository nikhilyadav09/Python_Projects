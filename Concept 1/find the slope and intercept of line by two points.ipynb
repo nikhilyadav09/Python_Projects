{
 "cells": [
  {
   "cell_type": "code",
   "execution_count": 2,
   "metadata": {},
   "outputs": [
    {
     "name": "stdout",
     "output_type": "stream",
     "text": [
      "x1 coordinate is 3\n",
      "y1 coordinate is 6\n",
      "x2 coordinate is 5\n",
      "y2 coordinate is 6\n",
      "slope = 0.0\n",
      "y intercept of the line is : 6.0\n"
     ]
    }
   ],
   "source": [
    "#7. Given two points (x1, y1) and (x2, y2), find the slope and intercept of the line\n",
    "#joining these two points (the line may be perfectly horizontal or vertical).\n",
    "x1=int(input(\"enter the 1st no.:\"))#enter x coordinate of first point\n",
    "print(\"x1 coordinate is\",x1)\n",
    "y1=int(input(\"enter the 2nd no.:\"))#enter y coordinate of first point\n",
    "print(\"y1 coordinate is\",y1)\n",
    "x2=int(input(\"enter the 1st no.:\"))#enter x coordinate of second point\n",
    "print(\"x2 coordinate is\",x2)\n",
    "y2=int(input(\"enter the 2nd no.:\"))#enter y coordinate of second point\n",
    "print(\"y2 coordinate is\",y2)\n",
    "if (x2-x1)==0 :\n",
    "    print(\"slope is 90 degree \")\n",
    "    print(\"y intercept of the line is 0 as it is parallel to y axis\")\n",
    "else:\n",
    "    slope=(y2-y1)/(x2-x1)\n",
    "    print(\"slope =\", slope)\n",
    "    print(\"y intercept of the line is :\",y1-slope*x1)"
   ]
  },
  {
   "cell_type": "code",
   "execution_count": null,
   "metadata": {},
   "outputs": [],
   "source": []
  }
 ],
 "metadata": {
  "kernelspec": {
   "display_name": "Python 3",
   "language": "python",
   "name": "python3"
  },
  "language_info": {
   "codemirror_mode": {
    "name": "ipython",
    "version": 3
   },
   "file_extension": ".py",
   "mimetype": "text/x-python",
   "name": "python",
   "nbconvert_exporter": "python",
   "pygments_lexer": "ipython3",
   "version": "3.11.6"
  }
 },
 "nbformat": 4,
 "nbformat_minor": 2
}
