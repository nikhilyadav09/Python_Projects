{
 "cells": [
  {
   "cell_type": "code",
   "execution_count": 2,
   "metadata": {},
   "outputs": [
    {
     "name": "stdout",
     "output_type": "stream",
     "text": [
      "1st point is ( 3 , 4 )\n",
      "1st point is ( 4 , 5 )\n",
      "1st point is ( 6 , 6 )\n",
      "area of triangle formed by given 3 points : 0.5\n",
      "they are not on same line\n"
     ]
    }
   ],
   "source": [
    "#9. Given three points, find out whether they lie on the same straight line or not\n",
    "x1=int(input(\"enter the 1st no.\"))#enter x ccordinate of first number.\n",
    "y1=int(input(\"enter the 2nd no.\"))#enter y ccordinate of first number. \n",
    "print(\"1st point is (\",x1,\",\",y1,\")\")\n",
    "x2=int(input(\"enter the 1st no.\"))#enter x ccordinate of second number.\n",
    "y2=int(input(\"enter the 2nd no.\"))#enter y ccordinate of second number.\n",
    "print(\"1st point is (\",x2,\",\",y2,\")\")\n",
    "x3=int(input(\"enter the 1st no.\"))#enter x ccordinate of third number.\n",
    "y3=int(input(\"enter the 2nd no.\"))#enter y ccordinate of third number.\n",
    "print(\"1st point is (\",x3,\",\",y3,\")\")\n",
    "area=(1/2)*(x1*(y2-y3)+x2*(y3-y1)+x3*(y1-y2))# A = (1/2) |x1(y2 − y3) + x2(y3 − y1) + x3(y1 − y2)|\n",
    "print(\"area of triangle formed by given 3 points :\", abs(area))\n",
    "if area==0:\n",
    "    print(\"this points are on same line\")#if area is zero than points are on same line.\n",
    "else:\n",
    "    print(\"this points are not on same line\")#if area is not zero than points are not on same line."
   ]
  },
  {
   "cell_type": "code",
   "execution_count": null,
   "metadata": {},
   "outputs": [],
   "source": []
  }
 ],
 "metadata": {
  "kernelspec": {
   "display_name": "Python 3",
   "language": "python",
   "name": "python3"
  },
  "language_info": {
   "codemirror_mode": {
    "name": "ipython",
    "version": 3
   },
   "file_extension": ".py",
   "mimetype": "text/x-python",
   "name": "python",
   "nbconvert_exporter": "python",
   "pygments_lexer": "ipython3",
   "version": "3.11.6"
  }
 },
 "nbformat": 4,
 "nbformat_minor": 2
}
