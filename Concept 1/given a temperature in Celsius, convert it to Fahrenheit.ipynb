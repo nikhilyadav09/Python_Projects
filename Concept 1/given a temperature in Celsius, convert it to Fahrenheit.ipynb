{
 "cells": [
  {
   "cell_type": "code",
   "execution_count": 1,
   "metadata": {},
   "outputs": [
    {
     "name": "stdout",
     "output_type": "stream",
     "text": [
      "temp. in celcius: 45.0\n",
      "temp. in fehrenheit: 113.0\n",
      "“It’s hot outside!”\n"
     ]
    }
   ],
   "source": [
    "#3. Given a temperature in Celsius, convert it to Fahrenheit.\n",
    "#  using the formula F = (C* 1.8) + 32. \n",
    "# If the temperature is above 90°F, print “It’s hot outside!” otherwise, print “The temperature is pleasant”\n",
    "celcs=float(input(\"enter temperature in celcius\"))#enter temperature in celcius\n",
    "print(\"temp. in celcius:\",celcs)\n",
    "fehrt = (celcs* 1.8) + 32\n",
    "print(\"temp. in fehrenheit:\",fehrt)\n",
    "if fehrt>90:\n",
    "    print (\"“It’s hot outside!”\")#for temperature above 90 this line printed.\n",
    "else:\n",
    "    print (\"“The temperature is pleasant”\")#for temperature below 90 this line printed."
   ]
  }
 ],
 "metadata": {
  "kernelspec": {
   "display_name": "Python 3",
   "language": "python",
   "name": "python3"
  },
  "language_info": {
   "codemirror_mode": {
    "name": "ipython",
    "version": 3
   },
   "file_extension": ".py",
   "mimetype": "text/x-python",
   "name": "python",
   "nbconvert_exporter": "python",
   "pygments_lexer": "ipython3",
   "version": "3.11.6"
  }
 },
 "nbformat": 4,
 "nbformat_minor": 2
}
