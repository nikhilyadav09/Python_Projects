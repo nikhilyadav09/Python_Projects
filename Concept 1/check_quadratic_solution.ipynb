{
 "cells": [
  {
   "cell_type": "code",
   "execution_count": 3,
   "metadata": {},
   "outputs": [
    {
     "name": "stdout",
     "output_type": "stream",
     "text": [
      "a: 2\n",
      "b: 4\n",
      "c: 1\n",
      "the real solutions are  -0.2928932188134524 and  -1.7071067811865475\n"
     ]
    }
   ],
   "source": [
    "#8. Given a quadratic equation with coefficients a, b and c. find the two solutions.\n",
    "#(may be real or complex). You should not take the square root of a negative\n",
    "#number in your code.\n",
    "a=int(input(\"enter cofficient a:\"))#enter coefficient of x**2\n",
    "print(\"a:\",a)\n",
    "b=int(input(\"enter cofficient b:\"))#enter coefficient of x\n",
    "print(\"b:\",b)\n",
    "c=int(input(\"enter cofficient c:\"))#enter coefficient of x**0(constant term)\n",
    "print(\"c:\",c)\n",
    "disc=(b**2)-4*a*c  # Calculation for discriminant\n",
    "if disc>0:\n",
    "    if a==0:\n",
    "        print(\"this is matrix equation and solution is\",-c/b)#matrix equation`s solution\n",
    "    else:\n",
    "        print(\"the real solutions are \",(-b+(disc**0.5))/(2*a) ,\"and \",(-b-(disc**0.5))/(2*a))# Two real and distinct roots\n",
    "elif disc==0 :\n",
    "    if a==0:\n",
    "        print(\"there is only constant there\")#only constant is theres\n",
    "    else:\n",
    "        print(\"equation have two equal and real roots :\",(-b/(2*a)))# Two real and equal roots\n",
    "else :\n",
    "    if a==0:\n",
    "        print(\"this is matrix equation and solution is\",-c/b)#matrix equation`s solution\n",
    "    else:\n",
    "        realpart=-b/(2*a)\n",
    "        imagpart=((-disc)**0.5)/(2*a)               #Complex roots of the equationdena\n",
    "        \n",
    "        print(\"Root 1:\",realpart,\"+\",imagpart,\"i\")\n",
    "        print(\"Root 2:\",realpart,\"-\",imagpart,\"i\")\n"
   ]
  },
  {
   "cell_type": "code",
   "execution_count": null,
   "metadata": {},
   "outputs": [],
   "source": []
  }
 ],
 "metadata": {
  "kernelspec": {
   "display_name": "Python 3",
   "language": "python",
   "name": "python3"
  },
  "language_info": {
   "codemirror_mode": {
    "name": "ipython",
    "version": 3
   },
   "file_extension": ".py",
   "mimetype": "text/x-python",
   "name": "python",
   "nbconvert_exporter": "python",
   "pygments_lexer": "ipython3",
   "version": "3.11.6"
  }
 },
 "nbformat": 4,
 "nbformat_minor": 2
}
