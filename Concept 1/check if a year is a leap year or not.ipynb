{
 "cells": [
  {
   "cell_type": "code",
   "execution_count": 5,
   "metadata": {},
   "outputs": [
    {
     "name": "stdout",
     "output_type": "stream",
     "text": [
      "2004 is a leap year\n"
     ]
    }
   ],
   "source": [
    "#4. Given a year, check if it is a leap year or not.\n",
    "# A leap year is divisible by 4, except for years that are divisible by 100. \n",
    "# However, years that are divisible by 400 are also leap years.\n",
    "year=int(input(\"enter four digit digit\"))#we take input of 4 digit year by user.\n",
    "if year%400==0:\n",
    "   print(year,\"is  a leap year\")#by conditions it check if its leap year than print the sentence.\n",
    "elif year%100==0:\n",
    "    print(year,\"is not a leap year\")#if condition not satisfied than tell as not a leap year.\n",
    "elif year%4==0:\n",
    "    print(year,\"is a leap year\")#by conditions it check if its leap year than print the sentence.   \n",
    "else:\n",
    "    print(year,\"is not a leap year\")#if condition not satisfied than tell as not a leap year.\n"
   ]
  },
  {
   "cell_type": "code",
   "execution_count": null,
   "metadata": {},
   "outputs": [],
   "source": []
  },
  {
   "cell_type": "code",
   "execution_count": null,
   "metadata": {},
   "outputs": [],
   "source": []
  }
 ],
 "metadata": {
  "kernelspec": {
   "display_name": "Python 3",
   "language": "python",
   "name": "python3"
  },
  "language_info": {
   "codemirror_mode": {
    "name": "ipython",
    "version": 3
   },
   "file_extension": ".py",
   "mimetype": "text/x-python",
   "name": "python",
   "nbconvert_exporter": "python",
   "pygments_lexer": "ipython3",
   "version": "3.11.6"
  }
 },
 "nbformat": 4,
 "nbformat_minor": 2
}
