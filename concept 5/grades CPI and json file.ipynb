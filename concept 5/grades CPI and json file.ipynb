{
 "cells": [
  {
   "cell_type": "code",
   "execution_count": 41,
   "metadata": {},
   "outputs": [
    {
     "name": "stdout",
     "output_type": "stream",
     "text": [
      "{'nikhil': ['B', 'A', 'F'], 'ajay': ['A', 'B', 'B'], 'puneet': ['A', 'A', 'F'], 'pankaj': ['A', 'B', 'C'], 'mayank': ['C', 'B', 'F']}\n",
      "\n",
      "\n",
      "{'nikhil': {'maxmarks': 90, 'avg': 63.0}, 'ajay': {'maxmarks': 94, 'avg': 81.33333333333333}, 'puneet': {'maxmarks': 90, 'avg': 70.66666666666667}, 'pankaj': {'maxmarks': 98, 'avg': 77.0}, 'mayank': {'maxmarks': 76, 'avg': 49.666666666666664}}\n"
     ]
    }
   ],
   "source": [
    "#7 Write a for loop to create another dictionary from the above where the marks are replaced by grades.\n",
    "# Above 80 is A grade, 60-80 is B grade, 40-60 is C grade, and below 40 is F.\n",
    "# Create another dictionary to store the max and average marks for each student.\n",
    "dictmarks={'nikhil': [65, 90, 34], 'ajay': [94,74,76], 'puneet': [90,88,34], 'pankaj': [98, 78, 55], 'mayank': [47, 76, 26]}\n",
    "dictgrade={}\n",
    "for key,value in dictmarks.items():\n",
    "    list_grade=[]\n",
    "    for mark in value:\n",
    "        if mark>80:\n",
    "            list_grade.append('A')\n",
    "        elif mark>60:\n",
    "            list_grade.append('B')\n",
    "        elif mark>40:\n",
    "            list_grade.append('C')\n",
    "        else:\n",
    "            list_grade.append('F')\n",
    "        \n",
    "    dictgrade[key]=list_grade\n",
    "print(dictgrade)\n",
    "print(\"\\n\")\n",
    "dictgrade1={}\n",
    "list2=[\"maxmarks\",\"avg\"]\n",
    "for key, value in dictmarks.items():\n",
    "    dictgrade={}\n",
    "    mark=0\n",
    "    summarks=0\n",
    "    i=0\n",
    "    for marks in value:\n",
    "        summarks+=marks\n",
    "        if marks>mark:\n",
    "            mark=marks\n",
    "\n",
    "    dictgrade[list2[i]]=mark\n",
    "    i+=1\n",
    "    dictgrade[list2[i]]=summarks/3\n",
    "    dictgrade1[key]=dictgrade\n",
    "print(dictgrade1)\n",
    "            \n"
   ]
  },
  {
   "cell_type": "code",
   "execution_count": 42,
   "metadata": {},
   "outputs": [
    {
     "name": "stdout",
     "output_type": "stream",
     "text": [
      "nikhil\n",
      "CPI is : 8.6\n",
      "\n",
      "\n",
      "ajay\n",
      "CPI is : 9.2\n",
      "\n",
      "\n",
      "puneet\n",
      "CPI is : 8.8\n",
      "\n",
      "\n",
      "pankaj\n",
      "CPI is : 8.9\n",
      "\n",
      "\n",
      "mayank\n",
      "CPI is : 7.9\n",
      "\n",
      "\n"
     ]
    }
   ],
   "source": [
    "# Use above dictionary created above to compute the final CPI/CGPA of the student. \n",
    "#Course1 is of 4 credits, Course2 of 10 credits, and Course3 of 6 credits. Store these credits in a list.\n",
    "dictgrade={'nikhil': ['B', 'A', 'F'], 'ajay': ['A', 'B', 'B'], 'puneet': ['A', 'A', 'F'], 'pankaj': ['A', 'B', 'C'], 'mayank': ['C', 'B', 'F']}\n",
    "\n",
    "coursecredits=[4,10,6]\n",
    "dictcredits={'A':10,'B':9,'C':8,'D':7,'F':6}\n",
    "for key,values in dictgrade.items():\n",
    "    print(key)\n",
    "    add=0\n",
    "    for x in range(len(coursecredits)):\n",
    "        add+=dictcredits[values[x]]*coursecredits[x]\n",
    "    print(\"CPI is :\",add/sum(coursecredits))\n",
    "    print(\"\\n\")\n",
    "\n"
   ]
  },
  {
   "cell_type": "code",
   "execution_count": 43,
   "metadata": {},
   "outputs": [
    {
     "name": "stdout",
     "output_type": "stream",
     "text": [
      "{'name': 'nikhil', 'age': 18, 'class': 'first year'}\n"
     ]
    }
   ],
   "source": [
    "#Write the dictionary as a json file, and read it back into a new dictionary. \n",
    "import json\n",
    "\n",
    "with open('data.json') as json_file:\n",
    "    data=json.load(json_file)\n",
    "print(data)"
   ]
  },
  {
   "cell_type": "code",
   "execution_count": null,
   "metadata": {},
   "outputs": [],
   "source": []
  }
 ],
 "metadata": {
  "kernelspec": {
   "display_name": "Python 3",
   "language": "python",
   "name": "python3"
  },
  "language_info": {
   "codemirror_mode": {
    "name": "ipython",
    "version": 3
   },
   "file_extension": ".py",
   "mimetype": "text/x-python",
   "name": "python",
   "nbconvert_exporter": "python",
   "pygments_lexer": "ipython3",
   "version": "3.11.6"
  }
 },
 "nbformat": 4,
 "nbformat_minor": 2
}
