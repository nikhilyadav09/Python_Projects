{
 "cells": [
  {
   "cell_type": "code",
   "execution_count": 8,
   "metadata": {},
   "outputs": [
    {
     "name": "stdout",
     "output_type": "stream",
     "text": [
      "dict of marks in assending order \n",
      " {'Python': 8, 'E AND C': 10, 'LA': 20}\n",
      "\n",
      "\n",
      "dict of marks in descending order \n",
      " {'LA': 20, 'E AND C': 10, 'Python': 8}\n"
     ]
    }
   ],
   "source": [
    "#8 Create a dictionary of your marks in various subjects and then sort it by its values first in descending order,\n",
    "# and then in or ascending order. Do not use any inbuilt sorting functions.\n",
    "dict_marks={'LA':20,'E AND C':10,'Python': 8}\n",
    "lst1=list(dict_marks.values())\n",
    "lst2=lst1.copy()\n",
    "newdict1={}\n",
    "for i in range(len(lst1)):\n",
    "    for a,b in dict_marks.items():\n",
    "        if b==min(lst1):#here by iteration check if its min num than append them and them remove it.\n",
    "            newdict1[a]=b\n",
    "            lst1.remove(min(lst1))\n",
    "            break\n",
    "print(\"dict of marks in assending order \\n\",newdict1)        \n",
    "print(\"\\n\")\n",
    "newdict2={}\n",
    "for i in range(len(lst2)):\n",
    "    for a,b in dict_marks.items():\n",
    "        if b==max(lst2):#here by iteration check if its max num than append them and them remove it.\n",
    "            newdict2[a]=b\n",
    "            lst2.remove(max(lst2))\n",
    "            break\n",
    "print(\"dict of marks in descending order \\n\",newdict2)  \n",
    "\n",
    "\n"
   ]
  },
  {
   "cell_type": "code",
   "execution_count": null,
   "metadata": {},
   "outputs": [],
   "source": []
  }
 ],
 "metadata": {
  "kernelspec": {
   "display_name": "Python 3",
   "language": "python",
   "name": "python3"
  },
  "language_info": {
   "codemirror_mode": {
    "name": "ipython",
    "version": 3
   },
   "file_extension": ".py",
   "mimetype": "text/x-python",
   "name": "python",
   "nbconvert_exporter": "python",
   "pygments_lexer": "ipython3",
   "version": "3.11.6"
  }
 },
 "nbformat": 4,
 "nbformat_minor": 2
}
