{
 "cells": [
  {
   "cell_type": "code",
   "execution_count": 2,
   "metadata": {},
   "outputs": [
    {
     "name": "stdout",
     "output_type": "stream",
     "text": [
      "{'nikhil': [25, 30, 34], 'ajay': [20, 40, 30], 'puneet': [36, 32, 27], 'pankaj': [38, 49, 39], 'mayank': [47, 33, 26]}\n",
      "nikhil\n",
      "Python : 25\n",
      "Maths : 30\n",
      "english : 34\n",
      "\n",
      "\n",
      "ajay\n",
      "Python : 20\n",
      "Maths : 40\n",
      "english : 30\n",
      "\n",
      "\n",
      "puneet\n",
      "Python : 36\n",
      "Maths : 32\n",
      "english : 27\n",
      "\n",
      "\n",
      "pankaj\n",
      "Python : 38\n",
      "Maths : 49\n",
      "english : 39\n",
      "\n",
      "\n",
      "mayank\n",
      "Python : 47\n",
      "Maths : 33\n",
      "english : 26\n",
      "\n",
      "\n"
     ]
    }
   ],
   "source": [
    "#Create a dictionary to store the total marks of 5 students in the class in 3 subjects (Course1, Course2, Course3).\n",
    "#The keys must be the student names, and the values must be the list of marks. \n",
    "#Create another list which has the course names in the same order as the marks are stored in the dictionary values.\n",
    "#Now write a nested for loop to print the marks for each student exam wise.\n",
    "course=[\"Python\", \"Maths\", \"english\"]\n",
    "dictscore={}\n",
    "dictscore[\"nikhil\"]=[25,30,34]\n",
    "dictscore[\"ajay\"]=[20,40,30]\n",
    "dictscore[\"puneet\"]=[36,32,27]\n",
    "dictscore[\"pankaj\"]=[38,49,39]\n",
    "dictscore[\"mayank\"]=[47,33,26]\n",
    "print(dictscore)\n",
    "for key,value in dictscore.items():\n",
    "    print(key)\n",
    "    for i in range(len(course)):\n",
    "        print(course[i],\":\",value[i])\n",
    "    print(\"\\n\")"
   ]
  },
  {
   "cell_type": "code",
   "execution_count": null,
   "metadata": {},
   "outputs": [],
   "source": []
  }
 ],
 "metadata": {
  "kernelspec": {
   "display_name": "Python 3",
   "language": "python",
   "name": "python3"
  },
  "language_info": {
   "name": "python",
   "version": "3.11.6"
  }
 },
 "nbformat": 4,
 "nbformat_minor": 2
}
