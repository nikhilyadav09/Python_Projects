{
 "cells": [
  {
   "cell_type": "code",
   "execution_count": 4,
   "metadata": {},
   "outputs": [
    {
     "name": "stdout",
     "output_type": "stream",
     "text": [
      "No, d not in key of sample_dict\n",
      "\n",
      "\n",
      "No, 400 is in value of sample_dict\n"
     ]
    }
   ],
   "source": [
    "#3.Check if a key exists in a dictionary: sample_dict = {'a': 100, 'b': 200, 'c': 300} key_needed = ‘d’\n",
    "sample_dict = {'a': 100, 'b': 200, 'c': 300}\n",
    "key_needed=\"d\"\n",
    "\n",
    "if key_needed in sample_dict.keys():\n",
    "    print(\"Yes,\",key_needed,\"is in key of sample_dict\")   \n",
    "else:\n",
    "    print(\"No,\",key_needed,\"not in key of sample_dict\")\n",
    "print(\"\\n\")\n",
    "# Check if a value exists in a dictionary: sample_dict = {'a': 100, 'b': 200, 'c': 300} value_needed = 200\n",
    "value_needed = 400\n",
    "if value_needed in sample_dict.values():\n",
    "    print(\"Yes,\",value_needed,\"is in value of sample_dict\")\n",
    "else:\n",
    "    print(\"No,\",value_needed,\"is in value of sample_dict\")\n",
    "    "
   ]
  },
  {
   "cell_type": "code",
   "execution_count": null,
   "metadata": {},
   "outputs": [],
   "source": []
  }
 ],
 "metadata": {
  "kernelspec": {
   "display_name": "Python 3",
   "language": "python",
   "name": "python3"
  },
  "language_info": {
   "codemirror_mode": {
    "name": "ipython",
    "version": 3
   },
   "file_extension": ".py",
   "mimetype": "text/x-python",
   "name": "python",
   "nbconvert_exporter": "python",
   "pygments_lexer": "ipython3",
   "version": "3.11.6"
  }
 },
 "nbformat": 4,
 "nbformat_minor": 2
}
