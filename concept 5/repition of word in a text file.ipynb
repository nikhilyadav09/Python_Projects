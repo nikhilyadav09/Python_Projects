{
 "cells": [
  {
   "cell_type": "code",
   "execution_count": 16,
   "metadata": {},
   "outputs": [
    {
     "name": "stdout",
     "output_type": "stream",
     "text": [
      "Dictionary containing no of times word repeated is:\n",
      "{'nikhil': 1, 'yadav': 1, 'puneet': 2, 'kumar': 3, 'pankaj': 1, 'rishi': 1, 'manu': 1, 'ajay': 1}\n"
     ]
    }
   ],
   "source": [
    "#10 Create a text file with one word in each line. The words can be repeated, i.e. \n",
    "#the same word can come in more than one line. Read this text file in python (find syntax from google),\n",
    "# and create a dictionary where the key is the word and the value is the number of times it occurs in the text file.\n",
    "with open(\"plain.txt\",\"r\") as readfile:\n",
    "    a=readfile.read()\n",
    "    lines=a.split(\"\\n\")\n",
    "\n",
    "dictname={}\n",
    "\n",
    "for i in lines:\n",
    "    count=0\n",
    "    for j in lines:\n",
    "        if i==j:\n",
    "            count+=1\n",
    "    dictname[i]=count\n",
    "print(\"Dictionary containing no of times word repeated is:\")\n",
    "print(dictname)"
   ]
  },
  {
   "cell_type": "code",
   "execution_count": null,
   "metadata": {},
   "outputs": [],
   "source": []
  }
 ],
 "metadata": {
  "kernelspec": {
   "display_name": "Python 3",
   "language": "python",
   "name": "python3"
  },
  "language_info": {
   "codemirror_mode": {
    "name": "ipython",
    "version": 3
   },
   "file_extension": ".py",
   "mimetype": "text/x-python",
   "name": "python",
   "nbconvert_exporter": "python",
   "pygments_lexer": "ipython3",
   "version": "3.11.6"
  }
 },
 "nbformat": 4,
 "nbformat_minor": 2
}
