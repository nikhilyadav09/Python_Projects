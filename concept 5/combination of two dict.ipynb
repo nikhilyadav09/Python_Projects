{
 "cells": [
  {
   "cell_type": "code",
   "execution_count": 2,
   "metadata": {},
   "outputs": [
    {
     "name": "stdout",
     "output_type": "stream",
     "text": [
      "the combined dict is:\n",
      " {'Ten': 10, 'Twenty': 20, 'Thirty': 30, 'Fourty': 40, 'Fifty': 50}\n"
     ]
    }
   ],
   "source": [
    "#merge these two dictionaries into one using for loop.\n",
    "dict1={'Ten':10,'Twenty':20,'Thirty':30}\n",
    "dict2={'Thirty':30,'Fourty':40,'Fifty':50}\n",
    "dict3=dict1.copy()\n",
    "for key,value in dict2.items():\n",
    "    if key not in dict3.keys():#if key already exit it will not add.\n",
    "        dict3[key]=value\n",
    "print(\"the combined dict is:\\n\",dict3)"
   ]
  },
  {
   "cell_type": "code",
   "execution_count": null,
   "metadata": {},
   "outputs": [],
   "source": []
  }
 ],
 "metadata": {
  "kernelspec": {
   "display_name": "Python 3",
   "language": "python",
   "name": "python3"
  },
  "language_info": {
   "codemirror_mode": {
    "name": "ipython",
    "version": 3
   },
   "file_extension": ".py",
   "mimetype": "text/x-python",
   "name": "python",
   "nbconvert_exporter": "python",
   "pygments_lexer": "ipython3",
   "version": "3.11.6"
  }
 },
 "nbformat": 4,
 "nbformat_minor": 2
}
