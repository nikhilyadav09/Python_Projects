{
 "cells": [
  {
   "cell_type": "code",
   "execution_count": 6,
   "metadata": {},
   "outputs": [
    {
     "name": "stdout",
     "output_type": "stream",
     "text": [
      "apple\n",
      "list of people who dont like this fruit ['nikhil', 'hariom']\n",
      "\n",
      "\n",
      "list of people who dont like this fruit ['atul', 'ajay', 'puneet']\n"
     ]
    }
   ],
   "source": [
    "# Create a dictionary whose keys are the names of your family members \n",
    "#and friends, and the values are the list of fruits they like to eat. \n",
    "#Now if the user gives a fruit as input, the code should print the list of names who like this fruit. \n",
    "#Write another code to print the list of people who do not like this fruit.\n",
    "dictfam={\"atul\":\"mango\",\"nikhil\":\"apple\",\"ajay\":\"grapes\",\"puneet\":\"banana\",\"hariom\":\"apple\"}\n",
    "fruit=(input(\"enter fruit name\"))\n",
    "print(fruit)\n",
    "lstlike=[]\n",
    "for i,j  in dictfam.items():\n",
    "    if fruit==j:\n",
    "        lstlike.append(i)      \n",
    "print(\"list of people who dont like this fruit\",lstlike)\n",
    "print(\"\\n\")\n",
    "\n",
    "lstnotlike=[]\n",
    "for i,j  in dictfam.items():\n",
    "    if fruit!=j:\n",
    "        lstnotlike.append(i)\n",
    "print(\"list of people who dont like this fruit\",lstnotlike)\n"
   ]
  },
  {
   "cell_type": "code",
   "execution_count": 7,
   "metadata": {},
   "outputs": [
    {
     "name": "stdout",
     "output_type": "stream",
     "text": [
      "['mango', 'apple', 'grapes', 'banana']\n"
     ]
    }
   ],
   "source": [
    "#Take the dictionary created in problem above. Write a code to make a consolidated \n",
    "#list of all the fruit names present in the values of various keys.\n",
    "# This list should not have any duplicate entries. Do not use the set() function.\n",
    "dictfam={\"atul\":\"mango\",\"nikhil\":\"apple\",\"ajay\":\"grapes\",\"puneet\":\"banana\",\"hariom\":\"apple\"}\n",
    "lst3=list(dictfam.values())\n",
    "lst4=[]\n",
    "for i in lst3:\n",
    "    if i not in lst4:\n",
    "        lst4.append(i)\n",
    "print(lst4)"
   ]
  },
  {
   "cell_type": "code",
   "execution_count": null,
   "metadata": {},
   "outputs": [],
   "source": []
  }
 ],
 "metadata": {
  "kernelspec": {
   "display_name": "Python 3",
   "language": "python",
   "name": "python3"
  },
  "language_info": {
   "codemirror_mode": {
    "name": "ipython",
    "version": 3
   },
   "file_extension": ".py",
   "mimetype": "text/x-python",
   "name": "python",
   "nbconvert_exporter": "python",
   "pygments_lexer": "ipython3",
   "version": "3.11.6"
  }
 },
 "nbformat": 4,
 "nbformat_minor": 2
}
