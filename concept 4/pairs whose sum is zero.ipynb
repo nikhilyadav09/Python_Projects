{
 "cells": [
  {
   "cell_type": "code",
   "execution_count": 2,
   "metadata": {},
   "outputs": [
    {
     "name": "stdout",
     "output_type": "stream",
     "text": [
      "Pair whose sum is zero is: 4 -4\n",
      "Pair whose sum is zero is: 7 -7\n",
      "Pair whose sum is zero is: 9 -9\n"
     ]
    }
   ],
   "source": [
    "#7. Given a list of integers, find all pairs of integers in the list whose sum is zero.\n",
    "listnum = [3, 4, 7, -4, 9, -7, 12, -9]\n",
    "for i in listnum:\n",
    "    for j in listnum:\n",
    "        if i + j == 0 and listnum.index(i) < listnum.index(j):\n",
    "            print(\"Pair whose sum is zero is:\", i, j)\n"
   ]
  },
  {
   "cell_type": "code",
   "execution_count": null,
   "metadata": {},
   "outputs": [],
   "source": []
  }
 ],
 "metadata": {
  "kernelspec": {
   "display_name": "Python 3",
   "language": "python",
   "name": "python3"
  },
  "language_info": {
   "codemirror_mode": {
    "name": "ipython",
    "version": 3
   },
   "file_extension": ".py",
   "mimetype": "text/x-python",
   "name": "python",
   "nbconvert_exporter": "python",
   "pygments_lexer": "ipython3",
   "version": "3.11.6"
  }
 },
 "nbformat": 4,
 "nbformat_minor": 2
}
