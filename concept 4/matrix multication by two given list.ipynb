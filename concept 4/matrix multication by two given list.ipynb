{
 "cells": [
  {
   "cell_type": "code",
   "execution_count": 8,
   "metadata": {},
   "outputs": [
    {
     "name": "stdout",
     "output_type": "stream",
     "text": [
      "the resultant matrix is\n",
      "[45, 19, 14]\n",
      "[54, 20, 46]\n",
      "[48, 19, 12]\n"
     ]
    }
   ],
   "source": [
    "#10 given two 3*3 matrix with values stored in two lists of length 9,find their product.\n",
    "lst1=[2,4,1,5,2,7,6,3,1]\n",
    "lst2=[3,1,0,9,4,2,3,1,6]\n",
    "lst_matx=[[0,0,0],[0,0,0],[0,0,0]]\n",
    "for i in range(3):    #the first and 2nd loop shows the position of element for result matrix \n",
    "    for j in range(3):\n",
    "        for k in range(3):\n",
    "            lst_matx[i][j]+=lst1[i*3+k]*lst2[k*3+j]#this  help in add element of resultant matrix by two given matrix multiplication\n",
    "print(\"the resultant matrix is\")\n",
    "for i in lst_matx:\n",
    "    print(i)\n",
    "\n"
   ]
  },
  {
   "cell_type": "code",
   "execution_count": null,
   "metadata": {},
   "outputs": [],
   "source": []
  }
 ],
 "metadata": {
  "kernelspec": {
   "display_name": "Python 3",
   "language": "python",
   "name": "python3"
  },
  "language_info": {
   "codemirror_mode": {
    "name": "ipython",
    "version": 3
   },
   "file_extension": ".py",
   "mimetype": "text/x-python",
   "name": "python",
   "nbconvert_exporter": "python",
   "pygments_lexer": "ipython3",
   "version": "3.11.6"
  }
 },
 "nbformat": 4,
 "nbformat_minor": 2
}
