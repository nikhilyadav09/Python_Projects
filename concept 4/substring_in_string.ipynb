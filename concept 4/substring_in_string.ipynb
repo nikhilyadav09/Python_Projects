{
 "cells": [
  {
   "cell_type": "code",
   "execution_count": 4,
   "metadata": {},
   "outputs": [
    {
     "data": {
      "text/plain": [
       "'its present'"
      ]
     },
     "execution_count": 4,
     "metadata": {},
     "output_type": "execute_result"
    }
   ],
   "source": [
    "#given a string input, find out if it contains a particular substring\n",
    "def func_str(str1):\n",
    "    strmain=\"sitare  is first startup oriented unversity\"\n",
    "    lststr= strmain.strip()#by doing so all substrings contain in a list\n",
    "    if str1 in lststr:\n",
    "        return 'its present'\n",
    "    else:\n",
    "        return 'its absent'\n",
    "    \n",
    "\n",
    "func_str(\"sitare\")"
   ]
  },
  {
   "cell_type": "code",
   "execution_count": null,
   "metadata": {},
   "outputs": [],
   "source": []
  }
 ],
 "metadata": {
  "kernelspec": {
   "display_name": "Python 3",
   "language": "python",
   "name": "python3"
  },
  "language_info": {
   "codemirror_mode": {
    "name": "ipython",
    "version": 3
   },
   "file_extension": ".py",
   "mimetype": "text/x-python",
   "name": "python",
   "nbconvert_exporter": "python",
   "pygments_lexer": "ipython3",
   "version": "3.11.6"
  }
 },
 "nbformat": 4,
 "nbformat_minor": 2
}
