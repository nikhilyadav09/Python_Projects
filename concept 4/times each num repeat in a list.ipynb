{
 "cells": [
  {
   "cell_type": "code",
   "execution_count": 2,
   "metadata": {},
   "outputs": [
    {
     "name": "stdout",
     "output_type": "stream",
     "text": [
      "4 occurs 2 times\n",
      "5 occurs 3 times\n",
      "7 occurs 1 times\n",
      "6 occurs 2 times\n",
      "11 occurs 1 times\n",
      "12 occurs 1 times\n"
     ]
    }
   ],
   "source": [
    "#6. Given a list of numbers, find out how many times each number occurs in the list.\n",
    "listnum=[4,5,7,4,6,5,11,12,6,5]\n",
    "listnew=[]\n",
    "for i in listnum:\n",
    "    if i not in listnew:\n",
    "        listnew.append(i)\n",
    "for i in listnew:\n",
    "    count=0\n",
    "    for j in listnum:#check for repeat number if repeat than count that\n",
    "        if i==j:\n",
    "            count+=1\n",
    "    print(i,\"occurs\",count,\"times\")"
   ]
  },
  {
   "cell_type": "code",
   "execution_count": null,
   "metadata": {},
   "outputs": [],
   "source": []
  }
 ],
 "metadata": {
  "kernelspec": {
   "display_name": "Python 3",
   "language": "python",
   "name": "python3"
  },
  "language_info": {
   "codemirror_mode": {
    "name": "ipython",
    "version": 3
   },
   "file_extension": ".py",
   "mimetype": "text/x-python",
   "name": "python",
   "nbconvert_exporter": "python",
   "pygments_lexer": "ipython3",
   "version": "3.11.6"
  }
 },
 "nbformat": 4,
 "nbformat_minor": 2
}
