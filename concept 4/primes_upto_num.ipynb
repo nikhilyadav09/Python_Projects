{
 "cells": [
  {
   "cell_type": "code",
   "execution_count": 1,
   "metadata": {},
   "outputs": [
    {
     "name": "stdout",
     "output_type": "stream",
     "text": [
      "[2, 3]\n"
     ]
    }
   ],
   "source": [
    "#4. Given a positive integer, find out all prime numbers from 1 up to this number.\n",
    "num1=int(input(\"enter a number\"))\n",
    "if num1<1:\n",
    "    print(\"plz enter positive number\")\n",
    "else:\n",
    "    lstprime=[]\n",
    "    for i in range(2,num1+1):\n",
    "        count=0\n",
    "        for j in range(2,int(i**0.5)+1):#checking for a prime number\n",
    "            if  i%j==0:\n",
    "                count+=1\n",
    "        if count==0 :\n",
    "            lstprime.append(i)\n",
    "    print(\"list of prime number upto given number is:\",lstprime)"
   ]
  },
  {
   "cell_type": "code",
   "execution_count": null,
   "metadata": {},
   "outputs": [],
   "source": []
  }
 ],
 "metadata": {
  "kernelspec": {
   "display_name": "Python 3",
   "language": "python",
   "name": "python3"
  },
  "language_info": {
   "codemirror_mode": {
    "name": "ipython",
    "version": 3
   },
   "file_extension": ".py",
   "mimetype": "text/x-python",
   "name": "python",
   "nbconvert_exporter": "python",
   "pygments_lexer": "ipython3",
   "version": "3.11.6"
  }
 },
 "nbformat": 4,
 "nbformat_minor": 2
}
