{
 "cells": [
  {
   "cell_type": "code",
   "execution_count": 1,
   "metadata": {},
   "outputs": [
    {
     "name": "stdout",
     "output_type": "stream",
     "text": [
      "factorial of 2 is 2\n",
      "factorial of 4 is 24\n",
      "factorial of 7 is 5040\n",
      "factorial of 9 is 362880\n",
      "factorial of 12 is 479001600\n",
      "factorial of 13 is 6227020800\n"
     ]
    }
   ],
   "source": [
    "#1. Given a list of positive integers, find the factorial of all the numbers.\n",
    "listnum=[2,4,7,9,12,13]\n",
    "for i in listnum:\n",
    "    fact=1\n",
    "    for j in range(1,i+1):#\n",
    "        fact*=j\n",
    "    print(\"factorial of\",i,\"is\",fact)"
   ]
  },
  {
   "cell_type": "code",
   "execution_count": null,
   "metadata": {},
   "outputs": [],
   "source": []
  }
 ],
 "metadata": {
  "kernelspec": {
   "display_name": "Python 3",
   "language": "python",
   "name": "python3"
  },
  "language_info": {
   "codemirror_mode": {
    "name": "ipython",
    "version": 3
   },
   "file_extension": ".py",
   "mimetype": "text/x-python",
   "name": "python",
   "nbconvert_exporter": "python",
   "pygments_lexer": "ipython3",
   "version": "3.11.6"
  }
 },
 "nbformat": 4,
 "nbformat_minor": 2
}
