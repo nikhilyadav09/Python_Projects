{
 "cells": [
  {
   "cell_type": "code",
   "execution_count": 4,
   "metadata": {},
   "outputs": [
    {
     "name": "stdout",
     "output_type": "stream",
     "text": [
      "first number is: 4\n",
      "second number is: 5\n",
      "GCD of num1 and num2 is: 1\n"
     ]
    }
   ],
   "source": [
    "#3. Given two numbers, find its Greatest Common Divisor (Divisor).\n",
    "num1=int(input(\"enter first number\"))\n",
    "print(\"first number is:\",num1)\n",
    "num2=int(input(\"enter second number\"))\n",
    "print(\"second number is:\",num2)\n",
    "\n",
    "if num1<num2:#for checking max number\n",
    "    minnum=num1\n",
    "else:\n",
    "    minnum=num2\n",
    "\n",
    "for i in range(1,minnum+1): \n",
    "    if num1%i==0 and num2%i==0:  #if both given numbers  is divided by number it is their GDC\n",
    "          hcf=i\n",
    "        \n",
    "print(\"GCD of num1 and num2 is:\",hcf)\n"
   ]
  },
  {
   "cell_type": "code",
   "execution_count": null,
   "metadata": {},
   "outputs": [],
   "source": []
  }
 ],
 "metadata": {
  "kernelspec": {
   "display_name": "Python 3",
   "language": "python",
   "name": "python3"
  },
  "language_info": {
   "codemirror_mode": {
    "name": "ipython",
    "version": 3
   },
   "file_extension": ".py",
   "mimetype": "text/x-python",
   "name": "python",
   "nbconvert_exporter": "python",
   "pygments_lexer": "ipython3",
   "version": "3.11.6"
  }
 },
 "nbformat": 4,
 "nbformat_minor": 2
}
