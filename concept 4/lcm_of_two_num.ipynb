{
 "cells": [
  {
   "cell_type": "code",
   "execution_count": 4,
   "metadata": {},
   "outputs": [
    {
     "name": "stdout",
     "output_type": "stream",
     "text": [
      "first number is: 3\n",
      "second number is: 4\n",
      "LCM of num1 and num2 is: 12\n"
     ]
    }
   ],
   "source": [
    "#2. Given two numbers, find its Least Common Multiple (LCM).\n",
    "num1=int(input(\"enter first number\"))\n",
    "print(\"first number is:\",num1)\n",
    "num2=int(input(\"enter second number\"))\n",
    "print(\"second number is:\",num2)\n",
    "\n",
    "if num1>num2:#for checking max number\n",
    "    maxnum=num1\n",
    "else:\n",
    "    maxnum=num2\n",
    "\n",
    "for i in range(maxnum,(num1*num2)+1): \n",
    "    if i%num1==0 and i%num2==0:  #if number divided by both given number it is their LCM\n",
    "        lcm=i\n",
    "        break\n",
    "print(\"LCM of num1 and num2 is:\",lcm)\n"
   ]
  },
  {
   "cell_type": "code",
   "execution_count": null,
   "metadata": {},
   "outputs": [],
   "source": []
  }
 ],
 "metadata": {
  "kernelspec": {
   "display_name": "Python 3",
   "language": "python",
   "name": "python3"
  },
  "language_info": {
   "codemirror_mode": {
    "name": "ipython",
    "version": 3
   },
   "file_extension": ".py",
   "mimetype": "text/x-python",
   "name": "python",
   "nbconvert_exporter": "python",
   "pygments_lexer": "ipython3",
   "version": "3.11.6"
  }
 },
 "nbformat": 4,
 "nbformat_minor": 2
}
