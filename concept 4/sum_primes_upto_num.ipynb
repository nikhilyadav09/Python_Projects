{
 "cells": [
  {
   "cell_type": "code",
   "execution_count": 1,
   "metadata": {},
   "outputs": [
    {
     "name": "stdout",
     "output_type": "stream",
     "text": [
      "the sum of all prime number upto given number is: 10\n"
     ]
    }
   ],
   "source": [
    "#5. Given a positive integers, find out the sum of all prime numbers from 1 up to this number.\n",
    "num1=int(input(\"enter a number\"))\n",
    "if num1<1:\n",
    "    print(\"plz enter positive number\")\n",
    "else:\n",
    "    primesum=0\n",
    "    for i in range(2,num1+1):\n",
    "        count=0\n",
    "        for j in range(2,int(i**0.5)+1):#checking for a prime number\n",
    "            if  i%j==0:\n",
    "                count+=1\n",
    "        if count==0 :\n",
    "            primesum+=i\n",
    "    print(\"the sum of all prime number upto given number is:\",primesum)"
   ]
  }
 ],
 "metadata": {
  "kernelspec": {
   "display_name": "Python 3",
   "language": "python",
   "name": "python3"
  },
  "language_info": {
   "codemirror_mode": {
    "name": "ipython",
    "version": 3
   },
   "file_extension": ".py",
   "mimetype": "text/x-python",
   "name": "python",
   "nbconvert_exporter": "python",
   "pygments_lexer": "ipython3",
   "version": "3.11.6"
  }
 },
 "nbformat": 4,
 "nbformat_minor": 2
}
