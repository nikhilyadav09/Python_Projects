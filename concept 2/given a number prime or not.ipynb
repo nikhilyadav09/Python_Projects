{
 "cells": [
  {
   "cell_type": "code",
   "execution_count": 6,
   "metadata": {},
   "outputs": [
    {
     "name": "stdout",
     "output_type": "stream",
     "text": [
      "the given number is not a prime number\n"
     ]
    }
   ],
   "source": [
    "#4. Given a positive integer, find out if it’s prime or not.\n",
    "num1=int(input(\"enter a positive integer\"))#take a input from user.\n",
    "a=0\n",
    "#process from finding a number is prime or not.\n",
    "for x in range(2,int(num1**0.5)+1):\n",
    "    if num1%x==0:  \n",
    "        a=a+1\n",
    "#print output according to condition.\n",
    "if a==0 and num1!=1 :\n",
    "    print(\"the given number is a prime number\")\n",
    "else:\n",
    "    print(\"the given number is not a prime number\")\n",
    "        \n",
    "\n",
    "    \n"
   ]
  },
  {
   "cell_type": "code",
   "execution_count": null,
   "metadata": {},
   "outputs": [],
   "source": []
  }
 ],
 "metadata": {
  "kernelspec": {
   "display_name": "Python 3",
   "language": "python",
   "name": "python3"
  },
  "language_info": {
   "codemirror_mode": {
    "name": "ipython",
    "version": 3
   },
   "file_extension": ".py",
   "mimetype": "text/x-python",
   "name": "python",
   "nbconvert_exporter": "python",
   "pygments_lexer": "ipython3",
   "version": "3.11.6"
  }
 },
 "nbformat": 4,
 "nbformat_minor": 2
}
