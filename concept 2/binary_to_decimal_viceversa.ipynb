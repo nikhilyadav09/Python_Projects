{
 "cells": [
  {
   "cell_type": "code",
   "execution_count": 13,
   "metadata": {},
   "outputs": [
    {
     "name": "stdout",
     "output_type": "stream",
     "text": [
      "Binary representation of given integer is: 100\n"
     ]
    }
   ],
   "source": [
    "#10 given a positive integer,convert it into binary and viceversa.\n",
    "#Convert integer to binary number.\n",
    "decinum=int(input(\"Enter a positive integer:\"))\n",
    "binnum='' \n",
    "while decinum>0:#this code run till num is greater than 2\n",
    "    remainder=decinum%2\n",
    "    binnum+=str(remainder)#this will add into number binnum\n",
    "    decinum//=2\n",
    "\n",
    "print(\"Binary representation of given integer is:\",binnum[::-1])"
   ]
  },
  {
   "cell_type": "code",
   "execution_count": 14,
   "metadata": {},
   "outputs": [
    {
     "name": "stdout",
     "output_type": "stream",
     "text": [
      "Decimal representation of given binary number is: 4\n"
     ]
    }
   ],
   "source": [
    " #Convert binary number to integer\n",
    "bin_num=input(\"Enter a binary number:\")\n",
    "decinum=0\n",
    "for i in range(len(bin_num)):\n",
    "    if bin_num[i]=='1':\n",
    "        decinum+=2**(len(bin_num)-1-i)#this will add after multiplying with of 2 to the power from last initialise to 0\n",
    "\n",
    "print(\"Decimal representation of given binary number is:\",decinum)\n"
   ]
  },
  {
   "cell_type": "code",
   "execution_count": null,
   "metadata": {},
   "outputs": [],
   "source": []
  }
 ],
 "metadata": {
  "kernelspec": {
   "display_name": "Python 3",
   "language": "python",
   "name": "python3"
  },
  "language_info": {
   "codemirror_mode": {
    "name": "ipython",
    "version": 3
   },
   "file_extension": ".py",
   "mimetype": "text/x-python",
   "name": "python",
   "nbconvert_exporter": "python",
   "pygments_lexer": "ipython3",
   "version": "3.11.6"
  }
 },
 "nbformat": 4,
 "nbformat_minor": 2
}
