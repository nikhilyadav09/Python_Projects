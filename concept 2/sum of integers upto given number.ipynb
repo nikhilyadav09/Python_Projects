{
 "cells": [
  {
   "cell_type": "code",
   "execution_count": 4,
   "metadata": {},
   "outputs": [
    {
     "name": "stdout",
     "output_type": "stream",
     "text": [
      "entered number is : 4\n",
      "sum of int upto this number is : 10\n"
     ]
    }
   ],
   "source": [
    "#2.Given a positive integer, find out the sum of all integers from 1 up to this number.\n",
    "num1=int(input(\"enter an integer\"))#taking the input from user\n",
    "print(\"entered number is :\",num1)\n",
    "sumnum=0\n",
    "if num1>0:\n",
    "        for i in range(1,num1+1):\n",
    "            sumnum+=i\n",
    "        print(\"sum of int upto this number is :\",sumnum)#give output if num1 is  positive\n",
    "else:\n",
    "        print(\"This is not a positive integer\")#print this statement when given number is not positive\n",
    "\n"
   ]
  },
  {
   "cell_type": "code",
   "execution_count": null,
   "metadata": {},
   "outputs": [],
   "source": []
  }
 ],
 "metadata": {
  "kernelspec": {
   "display_name": "Python 3",
   "language": "python",
   "name": "python3"
  },
  "language_info": {
   "codemirror_mode": {
    "name": "ipython",
    "version": 3
   },
   "file_extension": ".py",
   "mimetype": "text/x-python",
   "name": "python",
   "nbconvert_exporter": "python",
   "pygments_lexer": "ipython3",
   "version": "3.11.6"
  }
 },
 "nbformat": 4,
 "nbformat_minor": 2
}
