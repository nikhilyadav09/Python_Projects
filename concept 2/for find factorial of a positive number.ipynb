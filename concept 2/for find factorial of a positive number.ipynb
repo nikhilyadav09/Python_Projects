{
 "cells": [
  {
   "cell_type": "code",
   "execution_count": 2,
   "metadata": {},
   "outputs": [
    {
     "name": "stdout",
     "output_type": "stream",
     "text": [
      "entered number is : 1\n",
      "factorial of this number is : 1\n"
     ]
    }
   ],
   "source": [
    "#3. Given a positive integer, find out its factorial.\n",
    "num1=int(input(\"enter an integer \"))#taking the input from user\n",
    "print(\"entered number is :\",num1)\n",
    "if num1>0:\n",
    "    fact=1\n",
    "    for i in range(2,num1+1):\n",
    "        fact*=i\n",
    "    print(\"factorial of this number is :\",fact)#give output if num1 is  positive\n",
    "else:\n",
    "    print(\"This is not a positive integer\")#print this statement when given number is not positive\n"
   ]
  },
  {
   "cell_type": "code",
   "execution_count": null,
   "metadata": {},
   "outputs": [],
   "source": []
  }
 ],
 "metadata": {
  "kernelspec": {
   "display_name": "Python 3",
   "language": "python",
   "name": "python3"
  },
  "language_info": {
   "codemirror_mode": {
    "name": "ipython",
    "version": 3
   },
   "file_extension": ".py",
   "mimetype": "text/x-python",
   "name": "python",
   "nbconvert_exporter": "python",
   "pygments_lexer": "ipython3",
   "version": "3.11.6"
  }
 },
 "nbformat": 4,
 "nbformat_minor": 2
}
