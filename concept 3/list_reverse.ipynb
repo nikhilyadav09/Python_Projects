{
 "cells": [
  {
   "cell_type": "code",
   "execution_count": 5,
   "metadata": {},
   "outputs": [
    {
     "name": "stdout",
     "output_type": "stream",
     "text": [
      "the reverse of listnum is: [11, 10, 7, 4, 3]\n"
     ]
    }
   ],
   "source": [
    "#8. Given a list of numbers, create another list in reverse order.\n",
    "listnum=[3,4,7,10,11]\n",
    "listreverse=[]\n",
    "for i in listnum[::-1]:#slicing the element from last in listnum\n",
    "    listreverse.append(i)\n",
    "print(\"the reverse of listnum is:\",listreverse)"
   ]
  },
  {
   "cell_type": "code",
   "execution_count": null,
   "metadata": {},
   "outputs": [],
   "source": []
  }
 ],
 "metadata": {
  "kernelspec": {
   "display_name": "Python 3",
   "language": "python",
   "name": "python3"
  },
  "language_info": {
   "codemirror_mode": {
    "name": "ipython",
    "version": 3
   },
   "file_extension": ".py",
   "mimetype": "text/x-python",
   "name": "python",
   "nbconvert_exporter": "python",
   "pygments_lexer": "ipython3",
   "version": "3.11.6"
  }
 },
 "nbformat": 4,
 "nbformat_minor": 2
}
