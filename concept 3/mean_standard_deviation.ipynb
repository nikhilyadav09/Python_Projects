{
 "cells": [
  {
   "cell_type": "code",
   "execution_count": 3,
   "metadata": {},
   "outputs": [
    {
     "name": "stdout",
     "output_type": "stream",
     "text": [
      "mean of listnum is: 6.0 and standard deviation is: 3.9157800414902435\n"
     ]
    }
   ],
   "source": [
    "#4. Given a list of numbers, find out the mean and standard deviation.\n",
    "listnum=[4,5,1,4,9,13]\n",
    "lenlist=0\n",
    "sumlist=0\n",
    "for i in listnum:#by iteration find sum and length of list\n",
    "    lenlist+=1\n",
    "    sumlist+=i\n",
    "mean=sumlist/lenlist\n",
    "s_dev=0\n",
    "for i in listnum:#by formula of standard deviation SD=((mean-num)**2/length)**0.5 \n",
    "     s_dev+=(mean-i)**2\n",
    "SD=(s_dev/lenlist)**0.5\n",
    "print(\"mean of listnum is:\",mean,\"and standard deviation is:\",SD)"
   ]
  },
  {
   "cell_type": "code",
   "execution_count": null,
   "metadata": {},
   "outputs": [],
   "source": []
  }
 ],
 "metadata": {
  "kernelspec": {
   "display_name": "Python 3",
   "language": "python",
   "name": "python3"
  },
  "language_info": {
   "codemirror_mode": {
    "name": "ipython",
    "version": 3
   },
   "file_extension": ".py",
   "mimetype": "text/x-python",
   "name": "python",
   "nbconvert_exporter": "python",
   "pygments_lexer": "ipython3",
   "version": "3.11.6"
  }
 },
 "nbformat": 4,
 "nbformat_minor": 2
}
