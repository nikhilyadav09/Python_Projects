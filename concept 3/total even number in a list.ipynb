{
 "cells": [
  {
   "cell_type": "code",
   "execution_count": 2,
   "metadata": {},
   "outputs": [
    {
     "name": "stdout",
     "output_type": "stream",
     "text": [
      "total even number in a list is: 3\n"
     ]
    }
   ],
   "source": [
    "#7. Given a list of numbers, find out how many even numbers it has.\n",
    "listnum=[3,5,6,8,9,12]\n",
    "total_even=0\n",
    "for i in listnum:\n",
    "    if i%2==0:\n",
    "        \n",
    "        total_even+=1\n",
    "print(\"total even number in a list is:\",total_even)\n",
    "\n"
   ]
  },
  {
   "cell_type": "code",
   "execution_count": null,
   "metadata": {},
   "outputs": [],
   "source": []
  }
 ],
 "metadata": {
  "kernelspec": {
   "display_name": "Python 3",
   "language": "python",
   "name": "python3"
  },
  "language_info": {
   "codemirror_mode": {
    "name": "ipython",
    "version": 3
   },
   "file_extension": ".py",
   "mimetype": "text/x-python",
   "name": "python",
   "nbconvert_exporter": "python",
   "pygments_lexer": "ipython3",
   "version": "3.11.6"
  }
 },
 "nbformat": 4,
 "nbformat_minor": 2
}
