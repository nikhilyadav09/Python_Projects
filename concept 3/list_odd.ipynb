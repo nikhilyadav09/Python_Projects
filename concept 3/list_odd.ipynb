{
 "cells": [
  {
   "cell_type": "code",
   "execution_count": 2,
   "metadata": {},
   "outputs": [
    {
     "name": "stdout",
     "output_type": "stream",
     "text": [
      "[3, 7, 9, 13]\n"
     ]
    }
   ],
   "source": [
    "#6. Given a list of numbers, find all the odd numbers in it.\n",
    "listnum=[3,4,7,9,12,13,6]\n",
    "list_odd=[]\n",
    "for i in listnum:\n",
    "    if i%2!=0:#odd number is not divisible by 2 \n",
    "        list_odd.append(i)\n",
    "print(list_odd)"
   ]
  },
  {
   "cell_type": "code",
   "execution_count": null,
   "metadata": {},
   "outputs": [],
   "source": []
  }
 ],
 "metadata": {
  "kernelspec": {
   "display_name": "Python 3",
   "language": "python",
   "name": "python3"
  },
  "language_info": {
   "codemirror_mode": {
    "name": "ipython",
    "version": 3
   },
   "file_extension": ".py",
   "mimetype": "text/x-python",
   "name": "python",
   "nbconvert_exporter": "python",
   "pygments_lexer": "ipython3",
   "version": "3.11.6"
  }
 },
 "nbformat": 4,
 "nbformat_minor": 2
}
