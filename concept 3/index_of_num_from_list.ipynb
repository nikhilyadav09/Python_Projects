{
 "cells": [
  {
   "cell_type": "code",
   "execution_count": 8,
   "metadata": {},
   "outputs": [
    {
     "name": "stdout",
     "output_type": "stream",
     "text": [
      "2\n"
     ]
    }
   ],
   "source": [
    "#10. Given a list of numbers, find out the index of another given number.\n",
    "listnum=[3,4,5,7,8,11,14]\n",
    "num=5\n",
    "if num  in listnum:\n",
    "    count=0\n",
    "    for i in listnum:#checking if the number is in list or not.\n",
    "        if num!=i:#if number not matches with any number it counts such that its indices found\n",
    "            count+=1\n",
    "        if num==i:\n",
    "            break\n",
    "    print(count)\n",
    "if num not in listnum:#checking if the number is in list or not.\n",
    "    print(num,\"is not in listnum\")\n"
   ]
  },
  {
   "cell_type": "code",
   "execution_count": null,
   "metadata": {},
   "outputs": [],
   "source": []
  }
 ],
 "metadata": {
  "kernelspec": {
   "display_name": "Python 3",
   "language": "python",
   "name": "python3"
  },
  "language_info": {
   "codemirror_mode": {
    "name": "ipython",
    "version": 3
   },
   "file_extension": ".py",
   "mimetype": "text/x-python",
   "name": "python",
   "nbconvert_exporter": "python",
   "pygments_lexer": "ipython3",
   "version": "3.11.6"
  }
 },
 "nbformat": 4,
 "nbformat_minor": 2
}
