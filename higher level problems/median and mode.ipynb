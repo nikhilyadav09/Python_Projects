{
 "cells": [
  {
   "cell_type": "code",
   "execution_count": 14,
   "metadata": {},
   "outputs": [
    {
     "name": "stdout",
     "output_type": "stream",
     "text": [
      "median of given list is: 5\n",
      "\n",
      "\n",
      "mode of given list: [2, 9]\n"
     ]
    }
   ],
   "source": [
    "#2. Given a list of numbers, find out the median and mode.\n",
    "lst1=[5,2,9,3,9,5,1,2,7,2,13,9,10]\n",
    "lst2=lst1.copy()\n",
    "lst_asc=[]\n",
    "for j in range(len(lst1)):\n",
    "    num=lst2[0]\n",
    "    for i in lst2:\n",
    "         if i <num:\n",
    "            num=i\n",
    "    lst_asc.append(num)\n",
    "    lst2.remove(num)#removing the the min number which was append in list\n",
    "\n",
    "if len(lst1)%2==0:\n",
    "    med1=lst_asc[(len(lst1)//2)-1]\n",
    "    med2=lst_asc[(len(lst1)//2)]\n",
    "    print(\"median of given list are:\",med1,\"and\",med2)\n",
    "\n",
    "else:\n",
    "    med=lst_asc[((len(lst1)+1)//2)-1]\n",
    "    print(\"median of given list is:\",med)\n",
    "print(\"\\n\")\n",
    "lst3=[]\n",
    "dict_freq={}\n",
    "for i in lst1:\n",
    "    if i not in lst3:\n",
    "        lst3.append(i)\n",
    "for i in lst3:\n",
    "    count=0\n",
    "    for j in lst1:\n",
    "        if i==j:\n",
    "            count+=1\n",
    "    dict_freq[i]=count\n",
    "max_freq=0\n",
    "for value in dict_freq.values():\n",
    "    if value>max_freq:\n",
    "        max_freq=value\n",
    "mode=[]\n",
    "for key, value in dict_freq.items():\n",
    "    \n",
    "    if value == max_freq:\n",
    "        mode.append(key)\n",
    "print(\"mode of given list:\",mode)\n",
    "\n",
    "\n"
   ]
  },
  {
   "cell_type": "code",
   "execution_count": null,
   "metadata": {},
   "outputs": [],
   "source": []
  }
 ],
 "metadata": {
  "kernelspec": {
   "display_name": "Python 3",
   "language": "python",
   "name": "python3"
  },
  "language_info": {
   "codemirror_mode": {
    "name": "ipython",
    "version": 3
   },
   "file_extension": ".py",
   "mimetype": "text/x-python",
   "name": "python",
   "nbconvert_exporter": "python",
   "pygments_lexer": "ipython3",
   "version": "3.11.6"
  }
 },
 "nbformat": 4,
 "nbformat_minor": 2
}
