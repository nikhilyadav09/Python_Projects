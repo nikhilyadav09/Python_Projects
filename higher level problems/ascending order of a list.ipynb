{
 "cells": [
  {
   "cell_type": "code",
   "execution_count": 7,
   "metadata": {},
   "outputs": [
    {
     "name": "stdout",
     "output_type": "stream",
     "text": [
      "[2, 3, 5, 7, 9, 13]\n"
     ]
    }
   ],
   "source": [
    "#1. Given a list of numbers, sort it in ascending order.\n",
    "lst1=[5,3,7,2,13,9]\n",
    "lst2=lst1.copy()\n",
    "lst_asc=[]\n",
    "for j in range(len(lst1)):\n",
    "    num=lst2[0]\n",
    "    for i in lst2:\n",
    "         if i <num:\n",
    "            num=i\n",
    "    lst_asc.append(num)\n",
    "    lst2.remove(num)#removing the the min number which was append in list\n",
    "print(lst_asc)"
   ]
  },
  {
   "cell_type": "code",
   "execution_count": null,
   "metadata": {},
   "outputs": [],
   "source": []
  }
 ],
 "metadata": {
  "kernelspec": {
   "display_name": "Python 3",
   "language": "python",
   "name": "python3"
  },
  "language_info": {
   "codemirror_mode": {
    "name": "ipython",
    "version": 3
   },
   "file_extension": ".py",
   "mimetype": "text/x-python",
   "name": "python",
   "nbconvert_exporter": "python",
   "pygments_lexer": "ipython3",
   "version": "3.11.6"
  }
 },
 "nbformat": 4,
 "nbformat_minor": 2
}
