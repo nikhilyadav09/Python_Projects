{
 "cells": [
  {
   "cell_type": "code",
   "execution_count": 6,
   "metadata": {},
   "outputs": [
    {
     "name": "stdout",
     "output_type": "stream",
     "text": [
      "sum of pairs of 3 is 6\n",
      "sum of pairs of 6 is 12\n",
      "sum of pairs of 4 is 8\n",
      "sum of pairs of 18 is 36\n"
     ]
    }
   ],
   "source": [
    "#8. Given a list of integers, find the sum of all pairs of integers in the list that are equal\n",
    "lstnum=[3,6,4,18,7,6,18,4,3,9,8]\n",
    "lst1=[]\n",
    "dictnew={}\n",
    "for i in lstnum:\n",
    "    if i not in lst1:\n",
    "        lst1.append(i)\n",
    "for i in lst1:\n",
    "    count=0\n",
    "    for j in lstnum:\n",
    "        if i==j:\n",
    "            count+=1\n",
    "    dictnew[i]=count\n",
    "\n",
    "for key,value in dictnew.items():\n",
    "    if value>1:\n",
    "        print(\"sum of pairs of\",key,\"is\",key*value)"
   ]
  },
  {
   "cell_type": "code",
   "execution_count": null,
   "metadata": {},
   "outputs": [],
   "source": []
  }
 ],
 "metadata": {
  "kernelspec": {
   "display_name": "Python 3",
   "language": "python",
   "name": "python3"
  },
  "language_info": {
   "codemirror_mode": {
    "name": "ipython",
    "version": 3
   },
   "file_extension": ".py",
   "mimetype": "text/x-python",
   "name": "python",
   "nbconvert_exporter": "python",
   "pygments_lexer": "ipython3",
   "version": "3.11.6"
  }
 },
 "nbformat": 4,
 "nbformat_minor": 2
}
